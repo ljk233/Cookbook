{
 "cells": [
  {
   "cell_type": "markdown",
   "id": "1a07209f-dce4-4619-8ecd-9055db7a706a",
   "metadata": {},
   "source": [
    "# Simple linear regression analysis\n",
    "\n",
    "*2023-09-24*\n",
    "\n",
    "## Summary\n",
    "\n",
    "The aim of this deck was to show how to perform a simple linear regression analysis on some data.\n",
    "Data on the height, diameter, and side of the road (*east* or *west*) of 42 manna ash trees were collected and analysed.\n",
    "An exploratory data analysis of the data was carried out, and a simple linear regression analysis was performed.\n",
    "\n",
    "## Main\n",
    "\n",
    "Import the dependencies."
   ]
  },
  {
   "cell_type": "code",
   "execution_count": 1,
   "id": "136f8480-f24f-4c8a-a9ac-1b59a7b3d50f",
   "metadata": {},
   "outputs": [],
   "source": [
    "import pandas as pd\n",
    "from scipy import stats as st\n",
    "import statsmodels.api as sm\n",
    "import seaborn as sns\n",
    "from matplotlib import pyplot as plt"
   ]
  },
  {
   "cell_type": "markdown",
   "id": "a188ac19-ef70-4491-9eb9-1b2f5195d12b",
   "metadata": {},
   "source": [
    "Set the graphing defaults."
   ]
  },
  {
   "cell_type": "code",
   "execution_count": 2,
   "id": "5b17d85c-e7f4-423f-80d0-b03f9cabae46",
   "metadata": {},
   "outputs": [],
   "source": [
    "sns.set_theme()"
   ]
  },
  {
   "cell_type": "markdown",
   "id": "2d258427-554c-4c76-b979-9eddc1f2212a",
   "metadata": {},
   "source": [
    "Load the data."
   ]
  },
  {
   "cell_type": "code",
   "execution_count": 3,
   "id": "797ff7de-a97e-4ed0-a744-71861668c2c4",
   "metadata": {},
   "outputs": [],
   "source": [
    "manna_ash = pd.read_parquet(\"../Data/manna_ash.parquet\")"
   ]
  },
  {
   "cell_type": "markdown",
   "id": "3299b0b9-19b8-4eeb-b9d8-e2af3c044377",
   "metadata": {},
   "source": [
    "Describe the `DataFrame`."
   ]
  },
  {
   "cell_type": "code",
   "execution_count": 4,
   "id": "4f0396ab-d54b-4f32-bc3f-565be7bec9be",
   "metadata": {},
   "outputs": [
    {
     "name": "stdout",
     "output_type": "stream",
     "text": [
      "<class 'pandas.core.frame.DataFrame'>\n",
      "RangeIndex: 42 entries, 0 to 41\n",
      "Data columns (total 4 columns):\n",
      " #   Column    Non-Null Count  Dtype  \n",
      "---  ------    --------------  -----  \n",
      " 0   tree_id   42 non-null     int64  \n",
      " 1   diameter  42 non-null     float64\n",
      " 2   height    42 non-null     int64  \n",
      " 3   side      42 non-null     object \n",
      "dtypes: float64(1), int64(2), object(1)\n",
      "memory usage: 1.4+ KB\n"
     ]
    }
   ],
   "source": [
    "manna_ash.info()"
   ]
  },
  {
   "cell_type": "markdown",
   "id": "70045e20-7ab5-4bf4-932d-7d9efdb2e2f8",
   "metadata": {},
   "source": [
    "Preview the `DataFrame`."
   ]
  },
  {
   "cell_type": "code",
   "execution_count": 5,
   "id": "0254edab-3287-48ff-9cd4-670a61e15419",
   "metadata": {},
   "outputs": [
    {
     "data": {
      "text/html": [
       "<div>\n",
       "<style scoped>\n",
       "    .dataframe tbody tr th:only-of-type {\n",
       "        vertical-align: middle;\n",
       "    }\n",
       "\n",
       "    .dataframe tbody tr th {\n",
       "        vertical-align: top;\n",
       "    }\n",
       "\n",
       "    .dataframe thead th {\n",
       "        text-align: right;\n",
       "    }\n",
       "</style>\n",
       "<table border=\"1\" class=\"dataframe\">\n",
       "  <thead>\n",
       "    <tr style=\"text-align: right;\">\n",
       "      <th></th>\n",
       "      <th>tree_id</th>\n",
       "      <th>diameter</th>\n",
       "      <th>height</th>\n",
       "      <th>side</th>\n",
       "    </tr>\n",
       "  </thead>\n",
       "  <tbody>\n",
       "    <tr>\n",
       "      <th>0</th>\n",
       "      <td>271</td>\n",
       "      <td>0.23</td>\n",
       "      <td>9</td>\n",
       "      <td>west</td>\n",
       "    </tr>\n",
       "    <tr>\n",
       "      <th>1</th>\n",
       "      <td>270</td>\n",
       "      <td>0.21</td>\n",
       "      <td>8</td>\n",
       "      <td>west</td>\n",
       "    </tr>\n",
       "    <tr>\n",
       "      <th>2</th>\n",
       "      <td>269</td>\n",
       "      <td>0.20</td>\n",
       "      <td>7</td>\n",
       "      <td>west</td>\n",
       "    </tr>\n",
       "    <tr>\n",
       "      <th>3</th>\n",
       "      <td>268</td>\n",
       "      <td>0.21</td>\n",
       "      <td>8</td>\n",
       "      <td>west</td>\n",
       "    </tr>\n",
       "    <tr>\n",
       "      <th>4</th>\n",
       "      <td>272</td>\n",
       "      <td>0.21</td>\n",
       "      <td>9</td>\n",
       "      <td>west</td>\n",
       "    </tr>\n",
       "  </tbody>\n",
       "</table>\n",
       "</div>"
      ],
      "text/plain": [
       "   tree_id  diameter  height  side\n",
       "0      271      0.23       9  west\n",
       "1      270      0.21       8  west\n",
       "2      269      0.20       7  west\n",
       "3      268      0.21       8  west\n",
       "4      272      0.21       9  west"
      ]
     },
     "execution_count": 5,
     "metadata": {},
     "output_type": "execute_result"
    }
   ],
   "source": [
    "manna_ash.head()"
   ]
  },
  {
   "cell_type": "markdown",
   "id": "9c833bc5-1a40-4370-953c-95b80507deaf",
   "metadata": {},
   "source": [
    "### Exploratory data analysis\n",
    "\n",
    "#### Univariate analysis\n",
    "\n",
    "Summarise the `height` and `diameter` of trees."
   ]
  },
  {
   "cell_type": "code",
   "execution_count": 28,
   "id": "1100bd96-99ea-481a-bb48-59d15e0fd007",
   "metadata": {},
   "outputs": [
    {
     "data": {
      "text/html": [
       "<div>\n",
       "<style scoped>\n",
       "    .dataframe tbody tr th:only-of-type {\n",
       "        vertical-align: middle;\n",
       "    }\n",
       "\n",
       "    .dataframe tbody tr th {\n",
       "        vertical-align: top;\n",
       "    }\n",
       "\n",
       "    .dataframe thead th {\n",
       "        text-align: right;\n",
       "    }\n",
       "</style>\n",
       "<table border=\"1\" class=\"dataframe\">\n",
       "  <thead>\n",
       "    <tr style=\"text-align: right;\">\n",
       "      <th></th>\n",
       "      <th>count</th>\n",
       "      <th>mean</th>\n",
       "      <th>std</th>\n",
       "      <th>min</th>\n",
       "      <th>25%</th>\n",
       "      <th>50%</th>\n",
       "      <th>75%</th>\n",
       "      <th>max</th>\n",
       "    </tr>\n",
       "  </thead>\n",
       "  <tbody>\n",
       "    <tr>\n",
       "      <th>diameter</th>\n",
       "      <td>42.0</td>\n",
       "      <td>0.242381</td>\n",
       "      <td>0.050789</td>\n",
       "      <td>0.15</td>\n",
       "      <td>0.2</td>\n",
       "      <td>0.24</td>\n",
       "      <td>0.2775</td>\n",
       "      <td>0.35</td>\n",
       "    </tr>\n",
       "    <tr>\n",
       "      <th>height</th>\n",
       "      <td>42.0</td>\n",
       "      <td>8.023810</td>\n",
       "      <td>1.717742</td>\n",
       "      <td>4.00</td>\n",
       "      <td>7.0</td>\n",
       "      <td>8.00</td>\n",
       "      <td>9.0000</td>\n",
       "      <td>10.00</td>\n",
       "    </tr>\n",
       "  </tbody>\n",
       "</table>\n",
       "</div>"
      ],
      "text/plain": [
       "          count      mean       std   min  25%   50%     75%    max\n",
       "diameter   42.0  0.242381  0.050789  0.15  0.2  0.24  0.2775   0.35\n",
       "height     42.0  8.023810  1.717742  4.00  7.0  8.00  9.0000  10.00"
      ]
     },
     "execution_count": 28,
     "metadata": {},
     "output_type": "execute_result"
    }
   ],
   "source": [
    "manna_ash[[\"diameter\", \"height\"]].describe().T"
   ]
  },
  {
   "cell_type": "markdown",
   "id": "a553983c-ef24-494d-96e7-6c7dc0cdf779",
   "metadata": {},
   "source": [
    "Plot a bar chart of the number of trees observed by `side`.\n",
    "\n",
    "**Result:**\n",
    "The bar chart shows that there are approximately three times as many trees observed on the west side of the road compared to the east side of the road."
   ]
  },
  {
   "cell_type": "code",
   "execution_count": 6,
   "id": "39a28b3f-9f23-4adc-9d53-f1d4f346b095",
   "metadata": {},
   "outputs": [
    {
     "data": {
      "text/plain": [
       "<seaborn.axisgrid.FacetGrid at 0x21de5c1f310>"
      ]
     },
     "execution_count": 6,
     "metadata": {},
     "output_type": "execute_result"
    },
    {
     "data": {
      "image/png": "[encoded data removed]",
      "text/plain": [
       "<Figure size 500x500 with 1 Axes>"
      ]
     },
     "metadata": {},
     "output_type": "display_data"
    }
   ],
   "source": [
    "manna_ash[[\"side\"]].value_counts().reset_index().pipe(\n",
    "    sns.catplot, x=\"side\", y=\"count\", kind=\"bar\"\n",
    ")"
   ]
  },
  {
   "cell_type": "markdown",
   "id": "ae9ab18d-9e6e-40fc-b774-58b2b7b3868a",
   "metadata": {},
   "source": [
    "Plot a histogram of `height`.\n",
    "\n",
    "**Result:**\n",
    "The data are left skew and unimodal with a peak at the 9-10 bin."
   ]
  },
  {
   "cell_type": "code",
   "execution_count": 7,
   "id": "2424fa1d-977e-4193-ab2c-959529fd5507",
   "metadata": {},
   "outputs": [
    {
     "data": {
      "text/plain": [
       "<seaborn.axisgrid.FacetGrid at 0x21de5c72410>"
      ]
     },
     "execution_count": 7,
     "metadata": {},
     "output_type": "execute_result"
    },
    {
     "data": {
      "image/png": "[encoded data removed]",
      "text/plain": [
       "<Figure size 500x500 with 1 Axes>"
      ]
     },
     "metadata": {},
     "output_type": "display_data"
    }
   ],
   "source": [
    "manna_ash.pipe(sns.displot, x=\"height\", stat=\"percent\", binwidth=1)"
   ]
  },
  {
   "cell_type": "markdown",
   "id": "703f2afa-5edf-497c-a334-ea6011500de7",
   "metadata": {},
   "source": [
    "#### Bivariate analysis\n",
    "\n",
    "Plot a histogram of `height` stratified by `side`.\n",
    "\n",
    "**Result:**\n",
    "The plot suggests that the distribution of tree heights on the west side is not the same as the height of trees of the east side.\n",
    "Trees on the west side appear to have a similar distribution to the overall tree heights, whilst trees on the east side show a more symmetric distrbution with a small peak at the 7-8m bin."
   ]
  },
  {
   "cell_type": "code",
   "execution_count": 24,
   "id": "d5b78eb9-d842-49d5-9682-1c4128c2a314",
   "metadata": {},
   "outputs": [
    {
     "data": {
      "image/png": "[encoded data removed]",
      "text/plain": [
       "<Figure size 586.375x500 with 1 Axes>"
      ]
     },
     "metadata": {},
     "output_type": "display_data"
    }
   ],
   "source": [
    "manna_ash.pipe(sns.displot, x=\"height\", hue=\"side\", binwidth=1)\n",
    "plt.yticks(range(0, 20, 2))\n",
    "plt.show()"
   ]
  },
  {
   "cell_type": "markdown",
   "id": "edd142ca-0799-41b9-a8fc-73c60b87ddd5",
   "metadata": {},
   "source": [
    "Plot comparative boxplot of `height` stratified by `side`.\n",
    "\n",
    "**Result:**\n",
    "The trees on the west side are generally taller than the trees on the east side.\n",
    "In addition, the distribution of `height` for trees on the west side seems to have a different shape to the distribution of `height` for trees on the east side.\n",
    "\n",
    "The distribution of west side trees seem to be left skew, since there is no a high whisker but there is a low whisker.\n",
    "There is also a potential outlier.\n",
    "\n",
    "This is compared to trees on the east side, whose distribution looks approximately symmetric:\n",
    "Its whiskers are roughly the same length, but the box is not particularly symmetric about the median."
   ]
  },
  {
   "cell_type": "code",
   "execution_count": 9,
   "id": "20eb7fce-2b38-4087-b312-47e6822e2b3f",
   "metadata": {},
   "outputs": [
    {
     "data": {
      "text/plain": [
       "<seaborn.axisgrid.FacetGrid at 0x21de5cbdcd0>"
      ]
     },
     "execution_count": 9,
     "metadata": {},
     "output_type": "execute_result"
    },
    {
     "data": {
      "image/png": "[encoded data removed]",
      "text/plain": [
       "<Figure size 500x500 with 1 Axes>"
      ]
     },
     "metadata": {},
     "output_type": "display_data"
    }
   ],
   "source": [
    "manna_ash.pipe(sns.catplot, x=\"height\", y=\"side\", kind=\"box\")"
   ]
  },
  {
   "cell_type": "markdown",
   "id": "51aeaee9-f42e-4868-ab9d-cca8c56bc0d4",
   "metadata": {},
   "source": [
    "Plot a scatterplot of `diameter` against `side`.\n",
    "\n",
    "**Result:**\n",
    "Taken as a whole, there seems to be a weak positive linear relationship between `diameter` and `height`, with no noticeable outliers.\n",
    "However, if we also consider the groups, then the scatterplot shows two distinct clouds - one for the trees on the west side of the road, and the other for the trees on the east side.\n",
    "The relationship between `diameter` and `height` appears to be stronger when considering each `side` separately, with less scatter.\n",
    "This indicates that `side` may be a confounding variable in the relationship between `diameter` and `height`."
   ]
  },
  {
   "cell_type": "code",
   "execution_count": 20,
   "id": "b9e246ad-4e07-4956-a0c9-a1ed44f270f6",
   "metadata": {},
   "outputs": [
    {
     "data": {
      "text/plain": [
       "<seaborn.axisgrid.FacetGrid at 0x21de5cbde50>"
      ]
     },
     "execution_count": 20,
     "metadata": {},
     "output_type": "execute_result"
    },
    {
     "data": {
      "image/png": "[encoded data removed]",
      "text/plain": [
       "<Figure size 586.375x500 with 1 Axes>"
      ]
     },
     "metadata": {},
     "output_type": "display_data"
    }
   ],
   "source": [
    "manna_ash.pipe(sns.relplot, x=\"diameter\", y=\"height\", hue=\"side\")"
   ]
  },
  {
   "cell_type": "markdown",
   "id": "4d445b2f-9cc0-43e5-89cf-f0b1e95b0d1e",
   "metadata": {},
   "source": [
    "Report the correlation of `height` and `diameter`.\n",
    "\n",
    "**Result:**\n",
    "The correlation is positive, but quite close to 0, suggesting there is a only a weak relationship between the two `height` and `diameter`."
   ]
  },
  {
   "cell_type": "code",
   "execution_count": 12,
   "id": "a42f2381-063d-4c07-9ad0-c807ed8d3002",
   "metadata": {},
   "outputs": [
    {
     "data": {
      "text/plain": [
       "PearsonRResult(statistic=0.3627710547494399, pvalue=0.018219010713435492)"
      ]
     },
     "execution_count": 12,
     "metadata": {},
     "output_type": "execute_result"
    }
   ],
   "source": [
    "st.pearsonr(manna_ash[\"height\"], manna_ash[\"diameter\"])"
   ]
  },
  {
   "cell_type": "markdown",
   "id": "d05ad9f9-8ee3-4d7e-938c-dfa31780bfb5",
   "metadata": {},
   "source": [
    "There is evidence that the height of trees may be confounded by the side of the road the trees are placed.\n",
    "\n",
    "Test the hypotheses,\n",
    "\n",
    "$$\n",
    "H_{0}: m_{W} = m_{E};\n",
    "\\enspace H_{1}: m_{W} \\ne m_{E}\n",
    "$$\n",
    "\n",
    "where $m_{W}, m_{E}$ are the median heights of trees on the west and east side of the road, respectively.\n",
    "\n",
    "**Result:**\n",
    "The test statistic is $u =$ 279, with a $p$-value $\\simeq$ 0.0016.\n",
    "Given $p <$ 0.01, there is strong evidence that the median heights of trees on the west and east side of the road are not the same."
   ]
  },
  {
   "cell_type": "code",
   "execution_count": 13,
   "id": "f22474c0-f6ba-4f73-af98-a653ea282261",
   "metadata": {},
   "outputs": [
    {
     "data": {
      "text/plain": [
       "MannwhitneyuResult(statistic=279.0, pvalue=0.0016339591033292895)"
      ]
     },
     "execution_count": 13,
     "metadata": {},
     "output_type": "execute_result"
    }
   ],
   "source": [
    "st.mannwhitneyu(\n",
    "    manna_ash.query(\"side == 'west'\")[\"height\"],\n",
    "    manna_ash.query(\"side == 'east'\")[\"height\"]\n",
    ")"
   ]
  },
  {
   "cell_type": "markdown",
   "id": "897364df-354a-460a-91d8-9191b98a4160",
   "metadata": {},
   "source": [
    "### Model the data\n",
    "\n",
    "#### Fit the model\n",
    "\n",
    "Model `height ~ diameter` and fit the data."
   ]
  },
  {
   "cell_type": "code",
   "execution_count": 14,
   "id": "eb59804c-5c56-40b0-88c0-efd72eca6a0c",
   "metadata": {},
   "outputs": [],
   "source": [
    "model = sm.OLS.from_formula(\"height ~ diameter\", manna_ash)\n",
    "result = model.fit()"
   ]
  },
  {
   "cell_type": "markdown",
   "id": "f343120d-f0c7-4e87-a181-5518766cbc8d",
   "metadata": {},
   "source": [
    "Summarise the fitted model.\n",
    "\n",
    "**Result:**\n",
    "\n",
    "- The fitted model is `height = 5.05 + 12.27 diameter`\n",
    "- The $p$-value for $\\beta$ is reported as 0.018, which is moderate against the null hypothesis that $\\beta =$ 0"
   ]
  },
  {
   "cell_type": "code",
   "execution_count": 15,
   "id": "f229d6f9-5121-4c97-a724-ffb99bf36543",
   "metadata": {},
   "outputs": [
    {
     "name": "stdout",
     "output_type": "stream",
     "text": [
      "                            OLS Regression Results                            \n",
      "==============================================================================\n",
      "Dep. Variable:                 height   R-squared:                       0.132\n",
      "Model:                            OLS   Adj. R-squared:                  0.110\n",
      "No. Observations:                  42   F-statistic:                     6.062\n",
      "Covariance Type:            nonrobust   Prob (F-statistic):             0.0182\n",
      "==============================================================================\n",
      "                 coef    std err          t      P>|t|      [0.025      0.975]\n",
      "------------------------------------------------------------------------------\n",
      "Intercept      5.0500      1.233      4.094      0.000       2.557       7.543\n",
      "diameter      12.2692      4.983      2.462      0.018       2.198      22.341\n",
      "==============================================================================\n",
      "\n",
      "Notes:\n",
      "[1] Standard Errors assume that the covariance matrix of the errors is correctly specified.\n"
     ]
    }
   ],
   "source": [
    "print(result.summary(slim=True))"
   ]
  },
  {
   "cell_type": "markdown",
   "id": "b8f26c8e-ac21-41ec-bc8e-c7517ee8a725",
   "metadata": {},
   "source": [
    "#### Check the model assumptions\n",
    "\n",
    "Summarise the residual values.\n",
    "\n",
    "**Result:**\n",
    "The median is slightly greater than zero and the absolute value of the minimum value is greater than the maximum value.\n",
    "However, the magnitude of the lower and upper quartiles are similar, which suggests symmetry.\n",
    "Overall, we conclude that the residuals seem to be approximately symmetric about zero."
   ]
  },
  {
   "cell_type": "code",
   "execution_count": 16,
   "id": "b6a0b1be-4c9c-4419-aa0e-74f3691c27e2",
   "metadata": {},
   "outputs": [
    {
     "data": {
      "text/html": [
       "<div>\n",
       "<style scoped>\n",
       "    .dataframe tbody tr th:only-of-type {\n",
       "        vertical-align: middle;\n",
       "    }\n",
       "\n",
       "    .dataframe tbody tr th {\n",
       "        vertical-align: top;\n",
       "    }\n",
       "\n",
       "    .dataframe thead th {\n",
       "        text-align: right;\n",
       "    }\n",
       "</style>\n",
       "<table border=\"1\" class=\"dataframe\">\n",
       "  <thead>\n",
       "    <tr style=\"text-align: right;\">\n",
       "      <th></th>\n",
       "      <th>count</th>\n",
       "      <th>mean</th>\n",
       "      <th>std</th>\n",
       "      <th>min</th>\n",
       "      <th>25%</th>\n",
       "      <th>50%</th>\n",
       "      <th>75%</th>\n",
       "      <th>max</th>\n",
       "    </tr>\n",
       "  </thead>\n",
       "  <tbody>\n",
       "    <tr>\n",
       "      <th>0</th>\n",
       "      <td>42.0</td>\n",
       "      <td>-6.978545e-16</td>\n",
       "      <td>1.600727</td>\n",
       "      <td>-3.503827</td>\n",
       "      <td>-1.213924</td>\n",
       "      <td>0.198672</td>\n",
       "      <td>1.128095</td>\n",
       "      <td>2.741558</td>\n",
       "    </tr>\n",
       "  </tbody>\n",
       "</table>\n",
       "</div>"
      ],
      "text/plain": [
       "   count          mean       std       min       25%       50%       75%  \\\n",
       "0   42.0 -6.978545e-16  1.600727 -3.503827 -1.213924  0.198672  1.128095   \n",
       "\n",
       "        max  \n",
       "0  2.741558  "
      ]
     },
     "execution_count": 16,
     "metadata": {},
     "output_type": "execute_result"
    }
   ],
   "source": [
    "result.resid.describe().to_frame().T"
   ]
  },
  {
   "cell_type": "markdown",
   "id": "9ea82a86-eccb-4fe6-a35e-1fcd31997490",
   "metadata": {},
   "source": [
    "Plot a histogram of the residuals."
   ]
  },
  {
   "cell_type": "code",
   "execution_count": 35,
   "id": "5b5b9aef-555b-4b21-b4ff-1cf109fae759",
   "metadata": {},
   "outputs": [
    {
     "data": {
      "text/plain": [
       "<seaborn.axisgrid.FacetGrid at 0x21dee572590>"
      ]
     },
     "execution_count": 35,
     "metadata": {},
     "output_type": "execute_result"
    },
    {
     "data": {
      "image/png": "[encoded data removed]",
      "text/plain": [
       "<Figure size 500x500 with 1 Axes>"
      ]
     },
     "metadata": {},
     "output_type": "display_data"
    }
   ],
   "source": [
    "result.resid.rename(\"Residual\").to_frame().pipe(sns.displot, x=\"Residual\")"
   ]
  },
  {
   "cell_type": "markdown",
   "id": "26022e77-091f-49f8-8224-4a24a846d61b",
   "metadata": {},
   "source": [
    "Plot a residual plot of residual against fitted value and normal probability plot of the residuals.\n",
    "\n",
    "**Result:**\n",
    "The points in the residual plot appear to be randomly scattered about zero, suggesting that the assumption that they have zero mean is reasonable.\n",
    "There may be a slight decrease in spread as fitted values increase in size, whcih could suggest that the assumption of constant variance may not be the case.\n",
    "However, the sample size $n=$ 42 is not large, and so it is difficult to draw any strong conclusions from the residual plot.\n",
    "\n",
    "The normal probability plot shows that most points lie roughly along the straight line. so the assumption of normality does seem plausible.\n",
    "\n",
    "Overall, we conclude that the assumptions of linearity, zeromean and constant variance does appear to be reasoanble."
   ]
  },
  {
   "cell_type": "code",
   "execution_count": 17,
   "id": "9715e421-8957-4b99-8f12-80d6252877aa",
   "metadata": {},
   "outputs": [
    {
     "data": {
      "text/plain": [
       "Text(0.5, 0, 'Fitted value')"
      ]
     },
     "execution_count": 17,
     "metadata": {},
     "output_type": "execute_result"
    },
    {
     "data": {
      "image/png": "[encoded data removed]",
      "text/plain": [
       "<Figure size 640x480 with 1 Axes>"
      ]
     },
     "metadata": {},
     "output_type": "display_data"
    }
   ],
   "source": [
    "# Residual plot\n",
    "plt.scatter(result.fittedvalues, result.resid)\n",
    "plt.axhline(y=0, lw=2, ls=\"--\", color=\"r\")\n",
    "plt.ylabel(\"Residual\")\n",
    "plt.xlabel(\"Fitted value\")"
   ]
  },
  {
   "cell_type": "code",
   "execution_count": 18,
   "id": "5b9146a4-ca64-49f8-80b9-875e43213863",
   "metadata": {},
   "outputs": [
    {
     "data": {
      "image/png": "[encoded data removed]",
      "text/plain": [
       "<Figure size 640x480 with 1 Axes>"
      ]
     },
     "metadata": {},
     "output_type": "display_data"
    }
   ],
   "source": [
    "# Normal probability plot\n",
    "_ = st.probplot(result.resid, plot=plt)"
   ]
  },
  {
   "cell_type": "markdown",
   "id": "fa367062-8af0-47b3-948c-e9440e4e4236",
   "metadata": {},
   "source": [
    "#### Use the model\n",
    "\n",
    "Predict the height of a tree with a diameter of 0.25m.\n",
    "\n",
    "**Result:**\n",
    "The predicted height is 7.5m with 95% prediction interval (4.2, 10.8)."
   ]
  },
  {
   "cell_type": "code",
   "execution_count": 19,
   "id": "763a7138-4766-4595-aa59-7b353acb96c9",
   "metadata": {},
   "outputs": [
    {
     "data": {
      "text/html": [
       "<div>\n",
       "<style scoped>\n",
       "    .dataframe tbody tr th:only-of-type {\n",
       "        vertical-align: middle;\n",
       "    }\n",
       "\n",
       "    .dataframe tbody tr th {\n",
       "        vertical-align: top;\n",
       "    }\n",
       "\n",
       "    .dataframe thead th {\n",
       "        text-align: right;\n",
       "    }\n",
       "</style>\n",
       "<table border=\"1\" class=\"dataframe\">\n",
       "  <thead>\n",
       "    <tr style=\"text-align: right;\">\n",
       "      <th></th>\n",
       "      <th>mean</th>\n",
       "      <th>mean_se</th>\n",
       "      <th>mean_ci_lower</th>\n",
       "      <th>mean_ci_upper</th>\n",
       "      <th>obs_ci_lower</th>\n",
       "      <th>obs_ci_upper</th>\n",
       "    </tr>\n",
       "  </thead>\n",
       "  <tbody>\n",
       "    <tr>\n",
       "      <th>0</th>\n",
       "      <td>7.503827</td>\n",
       "      <td>0.327317</td>\n",
       "      <td>6.842294</td>\n",
       "      <td>8.16536</td>\n",
       "      <td>4.16231</td>\n",
       "      <td>10.845345</td>\n",
       "    </tr>\n",
       "  </tbody>\n",
       "</table>\n",
       "</div>"
      ],
      "text/plain": [
       "       mean   mean_se  mean_ci_lower  mean_ci_upper  obs_ci_lower  \\\n",
       "0  7.503827  0.327317       6.842294        8.16536       4.16231   \n",
       "\n",
       "   obs_ci_upper  \n",
       "0     10.845345  "
      ]
     },
     "execution_count": 19,
     "metadata": {},
     "output_type": "execute_result"
    }
   ],
   "source": [
    "result.get_prediction(pd.DataFrame({\"diameter\": [0.2]})).summary_frame()"
   ]
  }
 ],
 "metadata": {
  "kernelspec": {
   "display_name": "stats-python",
   "language": "python",
   "name": "stats-python"
  },
  "language_info": {
   "codemirror_mode": {
    "name": "ipython",
    "version": 3
   },
   "file_extension": ".py",
   "mimetype": "text/x-python",
   "name": "python",
   "nbconvert_exporter": "python",
   "pygments_lexer": "ipython3",
   "version": "3.11.4"
  }
 },
 "nbformat": 4,
 "nbformat_minor": 5
}
