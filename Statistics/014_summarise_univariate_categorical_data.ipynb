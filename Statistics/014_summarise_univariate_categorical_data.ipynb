{
 "cells": [
  {
   "cell_type": "markdown",
   "id": "db7ec08b-2040-4101-8d83-837fc76ce83f",
   "metadata": {},
   "source": [
    "# Summarise a univariate categorical dataset\n",
    "\n",
    "> *The best way to summarize categorical data is to use frequencies and percentages.*\n",
    ">\n",
    "> (1.3 Summarizing One Qualitative Variable, [Stat500](https://online.stat.psu.edu/stat500/lesson/1/1.3))"
   ]
  },
  {
   "cell_type": "code",
   "execution_count": 1,
   "id": "d986f6e3-e92f-43c7-8a7c-67ee7639ec7b",
   "metadata": {},
   "outputs": [],
   "source": [
    "import pandas as pd\n",
    "import seaborn as sns\n",
    "import statsmodels.api as sm"
   ]
  },
  {
   "cell_type": "markdown",
   "id": "4680391e-a500-4d18-9982-554fe16b34f8",
   "metadata": {},
   "source": [
    "## Get things ready"
   ]
  },
  {
   "cell_type": "markdown",
   "id": "f388598f-78f5-425b-8312-93c359bd24eb",
   "metadata": {},
   "source": [
    "Set the graphing theme."
   ]
  },
  {
   "cell_type": "code",
   "execution_count": 2,
   "id": "4590039b-ac13-47a6-aa05-8b302e87c9e0",
   "metadata": {},
   "outputs": [],
   "source": [
    "sns.set_theme()"
   ]
  },
  {
   "cell_type": "markdown",
   "id": "681b2e1e-2ece-4807-84ae-f5a23610bb79",
   "metadata": {},
   "source": [
    "Load the dataset and select the variable of interest."
   ]
  },
  {
   "cell_type": "code",
   "execution_count": 3,
   "id": "78582c13-b173-4976-979e-e833523b8052",
   "metadata": {},
   "outputs": [],
   "source": [
    "bwages: pd.DataFrame = sm.datasets.get_rdataset(\"Bwages\", \"Ecdat\")"
   ]
  },
  {
   "cell_type": "markdown",
   "id": "cfb21eeb-8607-4c4e-b1dd-b2dd598d2112",
   "metadata": {},
   "source": [
    "Select the variable of interest and transform.\n",
    "Data are ordinal, so we *sort* then *map* the data."
   ]
  },
  {
   "cell_type": "code",
   "execution_count": 4,
   "id": "e3d62b25-ecd3-473a-b2e4-cbfc37fc50c6",
   "metadata": {},
   "outputs": [
    {
     "data": {
      "text/plain": [
       "499          med\n",
       "782          med\n",
       "804     med-high\n",
       "1087    med-high\n",
       "1242        high\n",
       "Name: educ, dtype: object"
      ]
     },
     "execution_count": 4,
     "metadata": {},
     "output_type": "execute_result"
    }
   ],
   "source": [
    "def map_educ(d: int) -> str:\n",
    "    return {1: \"low\", 2: \"low-med\", 3: \"med\", 4: \"med-high\", 5: \"high\"}[d]\n",
    "\n",
    "\n",
    "X = bwages.data[\"educ\"].sort_values().map(map_educ)\n",
    "X.sample(5, random_state=23).sort_index()\n"
   ]
  },
  {
   "cell_type": "markdown",
   "id": "8ced1d53-6b00-4e06-8e12-a76fca5b0568",
   "metadata": {},
   "source": [
    "## Numerical summaries"
   ]
  },
  {
   "cell_type": "markdown",
   "id": "299ef620-bfdb-4182-a4ba-7aa7f5a36631",
   "metadata": {},
   "source": [
    "### Count of total observations"
   ]
  },
  {
   "cell_type": "code",
   "execution_count": 5,
   "id": "296c8fd6-5da9-4ee9-a283-b8ddf1d078ab",
   "metadata": {},
   "outputs": [
    {
     "data": {
      "text/plain": [
       "educ\n",
       "med         420\n",
       "med-high    356\n",
       "high        332\n",
       "low-med     265\n",
       "low          99\n",
       "Name: count, dtype: int64"
      ]
     },
     "execution_count": 5,
     "metadata": {},
     "output_type": "execute_result"
    }
   ],
   "source": [
    "X.value_counts()"
   ]
  },
  {
   "cell_type": "markdown",
   "id": "a3c28526-ed24-48fb-add9-18ccb868dbad",
   "metadata": {},
   "source": [
    "### Proportion of total observations"
   ]
  },
  {
   "cell_type": "code",
   "execution_count": 6,
   "id": "274fcf1d-e60c-4540-901d-1bddae87c73f",
   "metadata": {},
   "outputs": [
    {
     "data": {
      "text/plain": [
       "educ\n",
       "med         0.285326\n",
       "med-high    0.241848\n",
       "high        0.225543\n",
       "low-med     0.180027\n",
       "low         0.067255\n",
       "Name: proportion, dtype: float64"
      ]
     },
     "execution_count": 6,
     "metadata": {},
     "output_type": "execute_result"
    }
   ],
   "source": [
    "X.value_counts(normalize=True)"
   ]
  },
  {
   "cell_type": "markdown",
   "id": "3bfa6557-447f-4951-8106-32ded5f4bebc",
   "metadata": {},
   "source": [
    "### Factor, count, and percentage of total observations"
   ]
  },
  {
   "cell_type": "code",
   "execution_count": 7,
   "id": "3ba48c9c-d30b-4b8c-a8ff-f5d1c190d0bd",
   "metadata": {},
   "outputs": [
    {
     "data": {
      "text/html": [
       "<div>\n",
       "<style scoped>\n",
       "    .dataframe tbody tr th:only-of-type {\n",
       "        vertical-align: middle;\n",
       "    }\n",
       "\n",
       "    .dataframe tbody tr th {\n",
       "        vertical-align: top;\n",
       "    }\n",
       "\n",
       "    .dataframe thead th {\n",
       "        text-align: right;\n",
       "    }\n",
       "</style>\n",
       "<table border=\"1\" class=\"dataframe\">\n",
       "  <thead>\n",
       "    <tr style=\"text-align: right;\">\n",
       "      <th></th>\n",
       "      <th>count</th>\n",
       "      <th>percentage</th>\n",
       "    </tr>\n",
       "    <tr>\n",
       "      <th>educ</th>\n",
       "      <th></th>\n",
       "      <th></th>\n",
       "    </tr>\n",
       "  </thead>\n",
       "  <tbody>\n",
       "    <tr>\n",
       "      <th>med</th>\n",
       "      <td>420</td>\n",
       "      <td>28.532609</td>\n",
       "    </tr>\n",
       "    <tr>\n",
       "      <th>med-high</th>\n",
       "      <td>356</td>\n",
       "      <td>24.184783</td>\n",
       "    </tr>\n",
       "    <tr>\n",
       "      <th>high</th>\n",
       "      <td>332</td>\n",
       "      <td>22.554348</td>\n",
       "    </tr>\n",
       "    <tr>\n",
       "      <th>low-med</th>\n",
       "      <td>265</td>\n",
       "      <td>18.002717</td>\n",
       "    </tr>\n",
       "    <tr>\n",
       "      <th>low</th>\n",
       "      <td>99</td>\n",
       "      <td>6.725543</td>\n",
       "    </tr>\n",
       "  </tbody>\n",
       "</table>\n",
       "</div>"
      ],
      "text/plain": [
       "          count  percentage\n",
       "educ                       \n",
       "med         420   28.532609\n",
       "med-high    356   24.184783\n",
       "high        332   22.554348\n",
       "low-med     265   18.002717\n",
       "low          99    6.725543"
      ]
     },
     "execution_count": 7,
     "metadata": {},
     "output_type": "execute_result"
    }
   ],
   "source": [
    "pd.DataFrame().assign(\n",
    "    count=X.value_counts(), percentage=X.value_counts(normalize=True) * 100\n",
    ")"
   ]
  },
  {
   "cell_type": "markdown",
   "id": "c8e2a107-9d57-4d45-ae11-748af297d2bf",
   "metadata": {},
   "source": [
    "## Visualisations\n",
    "\n",
    "(*Seaborn* prefers a `DataFrame`, so we pipe the `Series` into a `DataFrame` before plotting.)"
   ]
  },
  {
   "cell_type": "markdown",
   "id": "5c596516-dc77-41b0-a42d-404b3a48dadf",
   "metadata": {},
   "source": [
    "### Eductation level by count"
   ]
  },
  {
   "cell_type": "code",
   "execution_count": 8,
   "id": "54957194-624f-46ef-8ec4-1d0c60c9bc65",
   "metadata": {},
   "outputs": [
    {
     "data": {
      "text/plain": [
       "<AxesSubplot: xlabel='educ', ylabel='count'>"
      ]
     },
     "execution_count": 8,
     "metadata": {},
     "output_type": "execute_result"
    },
    {
     "data": {
      "image/png": "[encoded data removed]",
      "text/plain": [
       "<Figure size 640x480 with 1 Axes>"
      ]
     },
     "metadata": {},
     "output_type": "display_data"
    }
   ],
   "source": [
    "X.to_frame().pipe(sns.countplot, x=\"educ\")"
   ]
  },
  {
   "cell_type": "markdown",
   "id": "1edd154c-1a45-40e1-ad69-867cde003b06",
   "metadata": {},
   "source": [
    "### Percentage education by count"
   ]
  },
  {
   "cell_type": "code",
   "execution_count": 9,
   "id": "8b8818d3-08ed-4a5d-a9f3-57f62b8aad3c",
   "metadata": {},
   "outputs": [
    {
     "data": {
      "text/plain": [
       "<seaborn.axisgrid.FacetGrid at 0x7f3a863763d0>"
      ]
     },
     "execution_count": 9,
     "metadata": {},
     "output_type": "execute_result"
    },
    {
     "data": {
      "image/png": "[encoded data removed]",
      "text/plain": [
       "<Figure size 500x500 with 1 Axes>"
      ]
     },
     "metadata": {},
     "output_type": "display_data"
    }
   ],
   "source": [
    "X.value_counts(normalize=True).mul(100).rename(\"percentage\").reset_index().pipe(\n",
    "    sns.catplot, x=\"percentage\", y=\"educ\", kind=\"bar\"\n",
    ")"
   ]
  }
 ],
 "metadata": {
  "kernelspec": {
   "display_name": "Python 3 (ipykernel)",
   "language": "python",
   "name": "python3"
  },
  "language_info": {
   "codemirror_mode": {
    "name": "ipython",
    "version": 3
   },
   "file_extension": ".py",
   "mimetype": "text/x-python",
   "name": "python",
   "nbconvert_exporter": "python",
   "pygments_lexer": "ipython3",
   "version": "3.11.4"
  }
 },
 "nbformat": 4,
 "nbformat_minor": 5
}
